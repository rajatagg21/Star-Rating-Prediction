{
 "cells": [
  {
   "cell_type": "code",
   "execution_count": 1,
   "id": "d0cc0b10",
   "metadata": {
    "_cell_guid": "b1076dfc-b9ad-4769-8c92-a6c4dae69d19",
    "_uuid": "8f2839f25d086af736a60e9eeb907d3b93b6e0e5",
    "execution": {
     "iopub.execute_input": "2022-02-28T09:02:11.287798Z",
     "iopub.status.busy": "2022-02-28T09:02:11.286058Z",
     "iopub.status.idle": "2022-02-28T09:02:11.308910Z",
     "shell.execute_reply": "2022-02-28T09:02:11.309668Z",
     "shell.execute_reply.started": "2022-02-28T07:41:24.045624Z"
    },
    "papermill": {
     "duration": 0.09007,
     "end_time": "2022-02-28T09:02:11.310147",
     "exception": false,
     "start_time": "2022-02-28T09:02:11.220077",
     "status": "completed"
    },
    "tags": []
   },
   "outputs": [
    {
     "name": "stdout",
     "output_type": "stream",
     "text": [
      "/kaggle/input/amazon-mobile-phone-reviews-dataset/SRPtest.csv\n",
      "/kaggle/input/amazon-mobile-phone-reviews-dataset/SRPtrain.csv\n"
     ]
    }
   ],
   "source": [
    "# This Python 3 environment comes with many helpful analytics libraries installed\n",
    "# It is defined by the kaggle/python Docker image: https://github.com/kaggle/docker-python\n",
    "# For example, here's several helpful packages to load\n",
    "\n",
    "import numpy as np # linear algebra\n",
    "import pandas as pd # data processing, CSV file I/O (e.g. pd.read_csv)\n",
    "\n",
    "# Input data files are available in the read-only \"../input/\" directory\n",
    "# For example, running this (by clicking run or pressing Shift+Enter) will list all files under the input directory\n",
    "\n",
    "import os\n",
    "for dirname, _, filenames in os.walk('/kaggle/input'):\n",
    "    for filename in filenames:\n",
    "        print(os.path.join(dirname, filename))\n",
    "\n",
    "# You can write up to 20GB to the current directory (/kaggle/working/) that gets preserved as output when you create a version using \"Save & Run All\" \n",
    "# You can also write temporary files to /kaggle/temp/, but they won't be saved outside of the current session"
   ]
  },
  {
   "cell_type": "markdown",
   "id": "a2ef4498",
   "metadata": {
    "papermill": {
     "duration": 0.058174,
     "end_time": "2022-02-28T09:02:11.427985",
     "exception": false,
     "start_time": "2022-02-28T09:02:11.369811",
     "status": "completed"
    },
    "tags": []
   },
   "source": [
    "# Star Rating prediction (Part-2):\n",
    "\n",
    "**In this notebook, We will be doing feature vector generation for unigrams, bigrams, trigrams.**\n",
    "\n",
    "**Link to Part-1: https://www.kaggle.com/rajatagg/starratingprediction-part-1**"
   ]
  },
  {
   "cell_type": "markdown",
   "id": "437d550a",
   "metadata": {
    "papermill": {
     "duration": 0.057445,
     "end_time": "2022-02-28T09:02:11.543227",
     "exception": false,
     "start_time": "2022-02-28T09:02:11.485782",
     "status": "completed"
    },
    "tags": []
   },
   "source": [
    "# Loading the dataset\n",
    "\n",
    "**We will use the preprocessed training data from [Part-1](https://www.kaggle.com/rajatagg/starratingprediction-part-1) to avoid preprocessing the [dataset](https://www.kaggle.com/PromptCloudHQ/amazon-reviews-unlocked-mobile-phones) used in Part-1**"
   ]
  },
  {
   "cell_type": "code",
   "execution_count": 2,
   "id": "c35a551a",
   "metadata": {
    "execution": {
     "iopub.execute_input": "2022-02-28T09:02:11.665390Z",
     "iopub.status.busy": "2022-02-28T09:02:11.664672Z",
     "iopub.status.idle": "2022-02-28T09:02:12.146000Z",
     "shell.execute_reply": "2022-02-28T09:02:12.145349Z",
     "shell.execute_reply.started": "2022-02-28T07:41:32.984615Z"
    },
    "papermill": {
     "duration": 0.545249,
     "end_time": "2022-02-28T09:02:12.146187",
     "exception": false,
     "start_time": "2022-02-28T09:02:11.600938",
     "status": "completed"
    },
    "tags": []
   },
   "outputs": [],
   "source": [
    "X_train_df = pd.read_csv('/kaggle/input/amazon-mobile-phone-reviews-dataset/SRPtrain.csv')"
   ]
  },
  {
   "cell_type": "code",
   "execution_count": 3,
   "id": "978ce0e3",
   "metadata": {
    "execution": {
     "iopub.execute_input": "2022-02-28T09:02:12.271851Z",
     "iopub.status.busy": "2022-02-28T09:02:12.267334Z",
     "iopub.status.idle": "2022-02-28T09:02:12.287293Z",
     "shell.execute_reply": "2022-02-28T09:02:12.287826Z",
     "shell.execute_reply.started": "2022-02-28T07:41:33.447913Z"
    },
    "papermill": {
     "duration": 0.083085,
     "end_time": "2022-02-28T09:02:12.288078",
     "exception": false,
     "start_time": "2022-02-28T09:02:12.204993",
     "status": "completed"
    },
    "tags": []
   },
   "outputs": [
    {
     "data": {
      "text/html": [
       "<div>\n",
       "<style scoped>\n",
       "    .dataframe tbody tr th:only-of-type {\n",
       "        vertical-align: middle;\n",
       "    }\n",
       "\n",
       "    .dataframe tbody tr th {\n",
       "        vertical-align: top;\n",
       "    }\n",
       "\n",
       "    .dataframe thead th {\n",
       "        text-align: right;\n",
       "    }\n",
       "</style>\n",
       "<table border=\"1\" class=\"dataframe\">\n",
       "  <thead>\n",
       "    <tr style=\"text-align: right;\">\n",
       "      <th></th>\n",
       "      <th>Reviews</th>\n",
       "      <th>Rating</th>\n",
       "    </tr>\n",
       "  </thead>\n",
       "  <tbody>\n",
       "    <tr>\n",
       "      <th>0</th>\n",
       "      <td>nice practical basic but not cheap very resist...</td>\n",
       "      <td>4</td>\n",
       "    </tr>\n",
       "    <tr>\n",
       "      <th>1</th>\n",
       "      <td>grabbed function samsung note took off new hei...</td>\n",
       "      <td>5</td>\n",
       "    </tr>\n",
       "    <tr>\n",
       "      <th>2</th>\n",
       "      <td>day love bought neon orange people love color ...</td>\n",
       "      <td>5</td>\n",
       "    </tr>\n",
       "    <tr>\n",
       "      <th>3</th>\n",
       "      <td>person trash sent empty box without equipment ...</td>\n",
       "      <td>1</td>\n",
       "    </tr>\n",
       "    <tr>\n",
       "      <th>4</th>\n",
       "      <td>wanted good promising but kept turning off res...</td>\n",
       "      <td>1</td>\n",
       "    </tr>\n",
       "  </tbody>\n",
       "</table>\n",
       "</div>"
      ],
      "text/plain": [
       "                                             Reviews  Rating\n",
       "0  nice practical basic but not cheap very resist...       4\n",
       "1  grabbed function samsung note took off new hei...       5\n",
       "2  day love bought neon orange people love color ...       5\n",
       "3  person trash sent empty box without equipment ...       1\n",
       "4  wanted good promising but kept turning off res...       1"
      ]
     },
     "execution_count": 3,
     "metadata": {},
     "output_type": "execute_result"
    }
   ],
   "source": [
    "X_train_df.head()"
   ]
  },
  {
   "cell_type": "markdown",
   "id": "6f22d94a",
   "metadata": {
    "papermill": {
     "duration": 0.057702,
     "end_time": "2022-02-28T09:02:12.405650",
     "exception": false,
     "start_time": "2022-02-28T09:02:12.347948",
     "status": "completed"
    },
    "tags": []
   },
   "source": [
    "**No need to check for NA/NULL values, We have already done that in [Part-1](https://www.kaggle.com/rajatagg/starratingprediction-part-1/notebook)**"
   ]
  },
  {
   "cell_type": "code",
   "execution_count": 4,
   "id": "47764f63",
   "metadata": {
    "execution": {
     "iopub.execute_input": "2022-02-28T09:02:12.526879Z",
     "iopub.status.busy": "2022-02-28T09:02:12.525813Z",
     "iopub.status.idle": "2022-02-28T09:02:14.070491Z",
     "shell.execute_reply": "2022-02-28T09:02:14.069842Z",
     "shell.execute_reply.started": "2022-02-28T07:41:34.074121Z"
    },
    "papermill": {
     "duration": 1.607008,
     "end_time": "2022-02-28T09:02:14.070650",
     "exception": false,
     "start_time": "2022-02-28T09:02:12.463642",
     "status": "completed"
    },
    "tags": []
   },
   "outputs": [
    {
     "name": "stdout",
     "output_type": "stream",
     "text": [
      "/kaggle/input/amazon-mobile-phone-reviews-dataset/SRPtest.csv\n",
      "/kaggle/input/amazon-mobile-phone-reviews-dataset/SRPtrain.csv\n"
     ]
    }
   ],
   "source": [
    "#  is a python script containing functions used in preprocessing\n",
    "from preprocessing_text import *"
   ]
  },
  {
   "cell_type": "code",
   "execution_count": 5,
   "id": "8bc8cd4f",
   "metadata": {
    "execution": {
     "iopub.execute_input": "2022-02-28T09:02:14.195817Z",
     "iopub.status.busy": "2022-02-28T09:02:14.195085Z",
     "iopub.status.idle": "2022-02-28T09:02:15.348941Z",
     "shell.execute_reply": "2022-02-28T09:02:15.348221Z",
     "shell.execute_reply.started": "2022-02-28T07:41:35.511125Z"
    },
    "papermill": {
     "duration": 1.217846,
     "end_time": "2022-02-28T09:02:15.349137",
     "exception": false,
     "start_time": "2022-02-28T09:02:14.131291",
     "status": "completed"
    },
    "tags": []
   },
   "outputs": [],
   "source": [
    "X_train_df['review_length'] = np.array(X_train_df['Reviews'].apply(getReviewLength))\n",
    "X_train_df['word_count'] = np.array(X_train_df['Reviews'].apply(getWordCount))"
   ]
  },
  {
   "cell_type": "code",
   "execution_count": 6,
   "id": "f148ddff",
   "metadata": {
    "execution": {
     "iopub.execute_input": "2022-02-28T09:02:15.478350Z",
     "iopub.status.busy": "2022-02-28T09:02:15.477610Z",
     "iopub.status.idle": "2022-02-28T09:02:15.483001Z",
     "shell.execute_reply": "2022-02-28T09:02:15.483452Z",
     "shell.execute_reply.started": "2022-02-28T07:41:36.703723Z"
    },
    "papermill": {
     "duration": 0.073735,
     "end_time": "2022-02-28T09:02:15.483648",
     "exception": false,
     "start_time": "2022-02-28T09:02:15.409913",
     "status": "completed"
    },
    "tags": []
   },
   "outputs": [
    {
     "data": {
      "text/html": [
       "<div>\n",
       "<style scoped>\n",
       "    .dataframe tbody tr th:only-of-type {\n",
       "        vertical-align: middle;\n",
       "    }\n",
       "\n",
       "    .dataframe tbody tr th {\n",
       "        vertical-align: top;\n",
       "    }\n",
       "\n",
       "    .dataframe thead th {\n",
       "        text-align: right;\n",
       "    }\n",
       "</style>\n",
       "<table border=\"1\" class=\"dataframe\">\n",
       "  <thead>\n",
       "    <tr style=\"text-align: right;\">\n",
       "      <th></th>\n",
       "      <th>Reviews</th>\n",
       "      <th>Rating</th>\n",
       "      <th>review_length</th>\n",
       "      <th>word_count</th>\n",
       "    </tr>\n",
       "  </thead>\n",
       "  <tbody>\n",
       "    <tr>\n",
       "      <th>0</th>\n",
       "      <td>nice practical basic but not cheap very resist...</td>\n",
       "      <td>4</td>\n",
       "      <td>66</td>\n",
       "      <td>13</td>\n",
       "    </tr>\n",
       "    <tr>\n",
       "      <th>1</th>\n",
       "      <td>grabbed function samsung note took off new hei...</td>\n",
       "      <td>5</td>\n",
       "      <td>144</td>\n",
       "      <td>29</td>\n",
       "    </tr>\n",
       "    <tr>\n",
       "      <th>2</th>\n",
       "      <td>day love bought neon orange people love color ...</td>\n",
       "      <td>5</td>\n",
       "      <td>59</td>\n",
       "      <td>12</td>\n",
       "    </tr>\n",
       "    <tr>\n",
       "      <th>3</th>\n",
       "      <td>person trash sent empty box without equipment ...</td>\n",
       "      <td>1</td>\n",
       "      <td>47</td>\n",
       "      <td>8</td>\n",
       "    </tr>\n",
       "    <tr>\n",
       "      <th>4</th>\n",
       "      <td>wanted good promising but kept turning off res...</td>\n",
       "      <td>1</td>\n",
       "      <td>122</td>\n",
       "      <td>22</td>\n",
       "    </tr>\n",
       "  </tbody>\n",
       "</table>\n",
       "</div>"
      ],
      "text/plain": [
       "                                             Reviews  Rating  review_length  \\\n",
       "0  nice practical basic but not cheap very resist...       4             66   \n",
       "1  grabbed function samsung note took off new hei...       5            144   \n",
       "2  day love bought neon orange people love color ...       5             59   \n",
       "3  person trash sent empty box without equipment ...       1             47   \n",
       "4  wanted good promising but kept turning off res...       1            122   \n",
       "\n",
       "   word_count  \n",
       "0          13  \n",
       "1          29  \n",
       "2          12  \n",
       "3           8  \n",
       "4          22  "
      ]
     },
     "execution_count": 6,
     "metadata": {},
     "output_type": "execute_result"
    }
   ],
   "source": [
    "X_train_df.head()"
   ]
  },
  {
   "cell_type": "code",
   "execution_count": 7,
   "id": "14054296",
   "metadata": {
    "execution": {
     "iopub.execute_input": "2022-02-28T09:02:15.608637Z",
     "iopub.status.busy": "2022-02-28T09:02:15.607570Z",
     "iopub.status.idle": "2022-02-28T09:02:15.613529Z",
     "shell.execute_reply": "2022-02-28T09:02:15.614166Z",
     "shell.execute_reply.started": "2022-02-28T07:41:36.717729Z"
    },
    "papermill": {
     "duration": 0.070289,
     "end_time": "2022-02-28T09:02:15.614382",
     "exception": false,
     "start_time": "2022-02-28T09:02:15.544093",
     "status": "completed"
    },
    "tags": []
   },
   "outputs": [
    {
     "data": {
      "text/plain": [
       "(250687, 4)"
      ]
     },
     "execution_count": 7,
     "metadata": {},
     "output_type": "execute_result"
    }
   ],
   "source": [
    "#shape of the train dataset\n",
    "X_train_df.shape"
   ]
  },
  {
   "cell_type": "code",
   "execution_count": 8,
   "id": "32c4d3af",
   "metadata": {
    "execution": {
     "iopub.execute_input": "2022-02-28T09:02:15.744246Z",
     "iopub.status.busy": "2022-02-28T09:02:15.743507Z",
     "iopub.status.idle": "2022-02-28T09:02:16.020128Z",
     "shell.execute_reply": "2022-02-28T09:02:16.019459Z",
     "shell.execute_reply.started": "2022-02-28T07:41:36.728100Z"
    },
    "papermill": {
     "duration": 0.345518,
     "end_time": "2022-02-28T09:02:16.020303",
     "exception": false,
     "start_time": "2022-02-28T09:02:15.674785",
     "status": "completed"
    },
    "tags": []
   },
   "outputs": [],
   "source": [
    "#importing libararies for visualization\n",
    "\n",
    "import matplotlib.pyplot as plt\n",
    "%matplotlib inline\n",
    "import seaborn as sns\n",
    "import warnings\n",
    "warnings.filterwarnings(\"ignore\")\n"
   ]
  },
  {
   "cell_type": "code",
   "execution_count": 9,
   "id": "28bf87e3",
   "metadata": {
    "execution": {
     "iopub.execute_input": "2022-02-28T09:02:16.144489Z",
     "iopub.status.busy": "2022-02-28T09:02:16.143788Z",
     "iopub.status.idle": "2022-02-28T09:02:16.571894Z",
     "shell.execute_reply": "2022-02-28T09:02:16.572393Z",
     "shell.execute_reply.started": "2022-02-28T07:41:36.987474Z"
    },
    "papermill": {
     "duration": 0.492145,
     "end_time": "2022-02-28T09:02:16.572599",
     "exception": false,
     "start_time": "2022-02-28T09:02:16.080454",
     "status": "completed"
    },
    "tags": []
   },
   "outputs": [
    {
     "data": {
      "image/png": "[encoded data removed]",
      "text/plain": [
       "<Figure size 864x432 with 1 Axes>"
      ]
     },
     "metadata": {
      "needs_background": "light"
     },
     "output_type": "display_data"
    }
   ],
   "source": [
    "#plotting the histogram of review lengths\n",
    "\n",
    "plt.rcParams['figure.figsize'] = (12.0, 6.0)\n",
    "bins = 100\n",
    "plt.hist(X_train_df['review_length'], facecolor='goldenrod', alpha=1, bins=bins)\n",
    "plt.title('Review Length Distribution')\n",
    "plt.xlabel('Review Length')\n",
    "plt.ylabel('Count')\n",
    "plt.legend(loc='upper right')\n",
    "plt.xlim(0,220)\n",
    "plt.grid(True)\n",
    "plt.show()"
   ]
  },
  {
   "cell_type": "markdown",
   "id": "410307d6",
   "metadata": {
    "papermill": {
     "duration": 0.060495,
     "end_time": "2022-02-28T09:02:16.693798",
     "exception": false,
     "start_time": "2022-02-28T09:02:16.633303",
     "status": "completed"
    },
    "tags": []
   },
   "source": [
    "**Feature vector generation taking unigrams, bigrams, trigrams into account for different review lengths.\n",
    "We will be computing train accuracy for now to see which review length is optimum.**"
   ]
  },
  {
   "cell_type": "markdown",
   "id": "2b84e275",
   "metadata": {
    "papermill": {
     "duration": 0.060708,
     "end_time": "2022-02-28T09:02:16.815164",
     "exception": false,
     "start_time": "2022-02-28T09:02:16.754456",
     "status": "completed"
    },
    "tags": []
   },
   "source": [
    "> Importing the required library"
   ]
  },
  {
   "cell_type": "code",
   "execution_count": 10,
   "id": "b67ab7e7",
   "metadata": {
    "execution": {
     "iopub.execute_input": "2022-02-28T09:02:16.945073Z",
     "iopub.status.busy": "2022-02-28T09:02:16.944309Z",
     "iopub.status.idle": "2022-02-28T09:02:16.945718Z",
     "shell.execute_reply": "2022-02-28T09:02:16.946218Z",
     "shell.execute_reply.started": "2022-02-28T07:41:37.420952Z"
    },
    "papermill": {
     "duration": 0.07081,
     "end_time": "2022-02-28T09:02:16.946421",
     "exception": false,
     "start_time": "2022-02-28T09:02:16.875611",
     "status": "completed"
    },
    "tags": []
   },
   "outputs": [],
   "source": [
    "#Using sk-learn implementation for tf-idf vectorization\n",
    "\n",
    "from sklearn.feature_extraction.text import TfidfVectorizer"
   ]
  },
  {
   "cell_type": "markdown",
   "id": "1305aa0c",
   "metadata": {
    "papermill": {
     "duration": 0.060437,
     "end_time": "2022-02-28T09:02:17.068737",
     "exception": false,
     "start_time": "2022-02-28T09:02:17.008300",
     "status": "completed"
    },
    "tags": []
   },
   "source": [
    "# 1.1 Review.length < 75 with Unigrams:"
   ]
  },
  {
   "cell_type": "markdown",
   "id": "6520327d",
   "metadata": {
    "papermill": {
     "duration": 0.059591,
     "end_time": "2022-02-28T09:02:17.188267",
     "exception": false,
     "start_time": "2022-02-28T09:02:17.128676",
     "status": "completed"
    },
    "tags": []
   },
   "source": [
    "In the previous version, I started with review.length < 200 but on running the notebook after sometime, the whole program resulted in memory overflow. So, starting with review.length < 75 this time."
   ]
  },
  {
   "cell_type": "code",
   "execution_count": 11,
   "id": "8ba66dea",
   "metadata": {
    "execution": {
     "iopub.execute_input": "2022-02-28T09:02:17.313314Z",
     "iopub.status.busy": "2022-02-28T09:02:17.312545Z",
     "iopub.status.idle": "2022-02-28T09:02:17.379504Z",
     "shell.execute_reply": "2022-02-28T09:02:17.378890Z",
     "shell.execute_reply.started": "2022-02-28T07:41:42.379242Z"
    },
    "papermill": {
     "duration": 0.131357,
     "end_time": "2022-02-28T09:02:17.379681",
     "exception": false,
     "start_time": "2022-02-28T09:02:17.248324",
     "status": "completed"
    },
    "tags": []
   },
   "outputs": [],
   "source": [
    "#review.length < 75\n",
    "index_names = X_train_df[X_train_df['review_length'] >= 75].index\n",
    "X_train_df.drop(index_names, inplace = True)"
   ]
  },
  {
   "cell_type": "markdown",
   "id": "829f5bbd",
   "metadata": {
    "papermill": {
     "duration": 0.059903,
     "end_time": "2022-02-28T09:02:17.499777",
     "exception": false,
     "start_time": "2022-02-28T09:02:17.439874",
     "status": "completed"
    },
    "tags": []
   },
   "source": [
    "> **fit_transform()** :Learn vocabulary and idf. The input is an iterable which can be string objects and returns Tf-idf-weighted document-term matrix."
   ]
  },
  {
   "cell_type": "code",
   "execution_count": 12,
   "id": "23240503",
   "metadata": {
    "execution": {
     "iopub.execute_input": "2022-02-28T09:02:17.625764Z",
     "iopub.status.busy": "2022-02-28T09:02:17.625075Z",
     "iopub.status.idle": "2022-02-28T09:02:24.073364Z",
     "shell.execute_reply": "2022-02-28T09:02:24.073929Z",
     "shell.execute_reply.started": "2022-02-28T07:41:48.054939Z"
    },
    "papermill": {
     "duration": 6.514625,
     "end_time": "2022-02-28T09:02:24.074171",
     "exception": false,
     "start_time": "2022-02-28T09:02:17.559546",
     "status": "completed"
    },
    "tags": []
   },
   "outputs": [],
   "source": [
    "# applying fit_transform to generate document term matrix\n",
    "\n",
    "vectorizer_uni75 = TfidfVectorizer(ngram_range=(1,1))\n",
    "vectorized_uni75 = vectorizer_uni75.fit_transform(X_train_df['Reviews'])\n",
    "fvector_uni75 = vectorized_uni75.toarray()"
   ]
  },
  {
   "cell_type": "markdown",
   "id": "54713686",
   "metadata": {
    "papermill": {
     "duration": 0.059807,
     "end_time": "2022-02-28T09:02:24.194465",
     "exception": false,
     "start_time": "2022-02-28T09:02:24.134658",
     "status": "completed"
    },
    "tags": []
   },
   "source": [
    "> below shown is the matrix in which each row represents a feature vector corresponding to a review."
   ]
  },
  {
   "cell_type": "code",
   "execution_count": 13,
   "id": "19aefb75",
   "metadata": {
    "execution": {
     "iopub.execute_input": "2022-02-28T09:02:24.323578Z",
     "iopub.status.busy": "2022-02-28T09:02:24.322127Z",
     "iopub.status.idle": "2022-02-28T09:02:24.327520Z",
     "shell.execute_reply": "2022-02-28T09:02:24.326833Z",
     "shell.execute_reply.started": "2022-02-28T07:41:54.508907Z"
    },
    "papermill": {
     "duration": 0.071998,
     "end_time": "2022-02-28T09:02:24.327681",
     "exception": false,
     "start_time": "2022-02-28T09:02:24.255683",
     "status": "completed"
    },
    "tags": []
   },
   "outputs": [
    {
     "data": {
      "text/plain": [
       "array([[0., 0., 0., ..., 0., 0., 0.],\n",
       "       [0., 0., 0., ..., 0., 0., 0.],\n",
       "       [0., 0., 0., ..., 0., 0., 0.],\n",
       "       ...,\n",
       "       [0., 0., 0., ..., 0., 0., 0.],\n",
       "       [0., 0., 0., ..., 0., 0., 0.],\n",
       "       [0., 0., 0., ..., 0., 0., 0.]])"
      ]
     },
     "execution_count": 13,
     "metadata": {},
     "output_type": "execute_result"
    }
   ],
   "source": [
    "fvector_uni75"
   ]
  },
  {
   "cell_type": "code",
   "execution_count": 14,
   "id": "9d9a5029",
   "metadata": {
    "execution": {
     "iopub.execute_input": "2022-02-28T09:02:24.456150Z",
     "iopub.status.busy": "2022-02-28T09:02:24.454805Z",
     "iopub.status.idle": "2022-02-28T09:02:30.748437Z",
     "shell.execute_reply": "2022-02-28T09:02:30.748916Z",
     "shell.execute_reply.started": "2022-02-28T07:41:54.517349Z"
    },
    "papermill": {
     "duration": 6.360865,
     "end_time": "2022-02-28T09:02:30.749156",
     "exception": false,
     "start_time": "2022-02-28T09:02:24.388291",
     "status": "completed"
    },
    "tags": []
   },
   "outputs": [
    {
     "data": {
      "text/plain": [
       "array([ 3.17065988, 35.88135924,  4.18048975, ...,  0.40824829,\n",
       "        0.42309893,  0.31485038])"
      ]
     },
     "execution_count": 14,
     "metadata": {},
     "output_type": "execute_result"
    }
   ],
   "source": [
    "# looking like everthing is 0, but it is sparse representation\n",
    "\n",
    "fvector_uni75.sum(axis=0)"
   ]
  },
  {
   "cell_type": "code",
   "execution_count": 15,
   "id": "63d19954",
   "metadata": {
    "execution": {
     "iopub.execute_input": "2022-02-28T09:02:30.879882Z",
     "iopub.status.busy": "2022-02-28T09:02:30.879047Z",
     "iopub.status.idle": "2022-02-28T09:02:30.882873Z",
     "shell.execute_reply": "2022-02-28T09:02:30.883433Z",
     "shell.execute_reply.started": "2022-02-28T07:42:00.723005Z"
    },
    "papermill": {
     "duration": 0.072125,
     "end_time": "2022-02-28T09:02:30.883676",
     "exception": false,
     "start_time": "2022-02-28T09:02:30.811551",
     "status": "completed"
    },
    "tags": []
   },
   "outputs": [
    {
     "name": "stdout",
     "output_type": "stream",
     "text": [
      "The length of the feature vector is : 14789\n"
     ]
    }
   ],
   "source": [
    "print(\"The length of the feature vector is :\",fvector_uni75.shape[1])"
   ]
  },
  {
   "cell_type": "code",
   "execution_count": 16,
   "id": "18bb86fa",
   "metadata": {
    "execution": {
     "iopub.execute_input": "2022-02-28T09:02:31.025684Z",
     "iopub.status.busy": "2022-02-28T09:02:31.024879Z",
     "iopub.status.idle": "2022-02-28T09:02:31.028304Z",
     "shell.execute_reply": "2022-02-28T09:02:31.027750Z",
     "shell.execute_reply.started": "2022-02-28T07:42:00.728607Z"
    },
    "papermill": {
     "duration": 0.082352,
     "end_time": "2022-02-28T09:02:31.028457",
     "exception": false,
     "start_time": "2022-02-28T09:02:30.946105",
     "status": "completed"
    },
    "tags": []
   },
   "outputs": [
    {
     "data": {
      "text/plain": [
       "['according',\n",
       " 'accordingly',\n",
       " 'account',\n",
       " 'accounted',\n",
       " 'accsesories',\n",
       " 'accsessiores',\n",
       " 'acct',\n",
       " 'acctivated',\n",
       " 'accts',\n",
       " 'accuracy',\n",
       " 'accurate',\n",
       " 'accurately',\n",
       " 'accurrate',\n",
       " 'accustom',\n",
       " 'accustomed',\n",
       " 'acdc',\n",
       " 'ace',\n",
       " 'acelera',\n",
       " 'acepar',\n",
       " 'aceptable',\n",
       " 'acer',\n",
       " 'acerca',\n",
       " 'acertada',\n",
       " 'acesorios',\n",
       " 'acessoires',\n",
       " 'acessories',\n",
       " 'acewin',\n",
       " 'ache',\n",
       " 'achieve',\n",
       " 'acid']"
      ]
     },
     "execution_count": 16,
     "metadata": {},
     "output_type": "execute_result"
    }
   ],
   "source": [
    "vectorizer_uni75.get_feature_names()[100:130]"
   ]
  },
  {
   "cell_type": "markdown",
   "id": "f9bf9531",
   "metadata": {
    "papermill": {
     "duration": 0.062877,
     "end_time": "2022-02-28T09:02:31.153359",
     "exception": false,
     "start_time": "2022-02-28T09:02:31.090482",
     "status": "completed"
    },
    "tags": []
   },
   "source": [
    "Now, that we have generated the feature vector let's see how well it works on training data using different algorithms(**Multinomial Naive Bayes Algorithm** for this notebook)"
   ]
  },
  {
   "cell_type": "code",
   "execution_count": 17,
   "id": "c6cb8d53",
   "metadata": {
    "execution": {
     "iopub.execute_input": "2022-02-28T09:02:31.287267Z",
     "iopub.status.busy": "2022-02-28T09:02:31.286499Z",
     "iopub.status.idle": "2022-02-28T09:02:36.879488Z",
     "shell.execute_reply": "2022-02-28T09:02:36.881001Z",
     "shell.execute_reply.started": "2022-02-28T07:42:05.444471Z"
    },
    "papermill": {
     "duration": 5.664326,
     "end_time": "2022-02-28T09:02:36.881345",
     "exception": false,
     "start_time": "2022-02-28T09:02:31.217019",
     "status": "completed"
    },
    "tags": []
   },
   "outputs": [
    {
     "data": {
      "text/plain": [
       "MultinomialNB()"
      ]
     },
     "execution_count": 17,
     "metadata": {},
     "output_type": "execute_result"
    }
   ],
   "source": [
    "from sklearn.naive_bayes import MultinomialNB\n",
    "model_uni75 = MultinomialNB()\n",
    "\n",
    "# Fit Naive Bayes classifier according to X, y.\n",
    "model_uni75.fit(fvector_uni75,X_train_df['Rating'])"
   ]
  },
  {
   "cell_type": "code",
   "execution_count": 18,
   "id": "bdc9f3d6",
   "metadata": {
    "execution": {
     "iopub.execute_input": "2022-02-28T09:02:37.057953Z",
     "iopub.status.busy": "2022-02-28T09:02:37.057227Z",
     "iopub.status.idle": "2022-02-28T09:02:42.353387Z",
     "shell.execute_reply": "2022-02-28T09:02:42.354414Z",
     "shell.execute_reply.started": "2022-02-28T07:42:11.077645Z"
    },
    "papermill": {
     "duration": 5.366203,
     "end_time": "2022-02-28T09:02:42.354766",
     "exception": false,
     "start_time": "2022-02-28T09:02:36.988563",
     "status": "completed"
    },
    "tags": []
   },
   "outputs": [],
   "source": [
    "# Perform classification on an array of test vectors.\n",
    "y_pred = model_uni75.predict(fvector_uni75) "
   ]
  },
  {
   "cell_type": "markdown",
   "id": "5185ae92",
   "metadata": {
    "papermill": {
     "duration": 0.062103,
     "end_time": "2022-02-28T09:02:42.523619",
     "exception": false,
     "start_time": "2022-02-28T09:02:42.461516",
     "status": "completed"
    },
    "tags": []
   },
   "source": [
    "> Importing the functions to obtain the performance metrics"
   ]
  },
  {
   "cell_type": "code",
   "execution_count": 19,
   "id": "68fbfcbd",
   "metadata": {
    "execution": {
     "iopub.execute_input": "2022-02-28T09:02:42.654614Z",
     "iopub.status.busy": "2022-02-28T09:02:42.653849Z",
     "iopub.status.idle": "2022-02-28T09:02:42.656830Z",
     "shell.execute_reply": "2022-02-28T09:02:42.656284Z",
     "shell.execute_reply.started": "2022-02-28T07:42:16.394199Z"
    },
    "papermill": {
     "duration": 0.069935,
     "end_time": "2022-02-28T09:02:42.657004",
     "exception": false,
     "start_time": "2022-02-28T09:02:42.587069",
     "status": "completed"
    },
    "tags": []
   },
   "outputs": [],
   "source": [
    "from sklearn.metrics import accuracy_score, classification_report"
   ]
  },
  {
   "cell_type": "code",
   "execution_count": 20,
   "id": "53ac3008",
   "metadata": {
    "execution": {
     "iopub.execute_input": "2022-02-28T09:02:42.785058Z",
     "iopub.status.busy": "2022-02-28T09:02:42.784331Z",
     "iopub.status.idle": "2022-02-28T09:02:43.058129Z",
     "shell.execute_reply": "2022-02-28T09:02:43.058723Z",
     "shell.execute_reply.started": "2022-02-28T07:42:16.406977Z"
    },
    "papermill": {
     "duration": 0.339954,
     "end_time": "2022-02-28T09:02:43.058935",
     "exception": false,
     "start_time": "2022-02-28T09:02:42.718981",
     "status": "completed"
    },
    "tags": []
   },
   "outputs": [
    {
     "name": "stdout",
     "output_type": "stream",
     "text": [
      "Classfication Report for (Unigrams, 75)\n",
      "\n",
      "\n",
      "              precision    recall  f1-score   support\n",
      "\n",
      "           1       0.69      0.82      0.75     25821\n",
      "           2       0.94      0.06      0.12      7608\n",
      "           3       0.83      0.15      0.25     11148\n",
      "           4       0.64      0.18      0.28     24771\n",
      "           5       0.78      0.98      0.87    112837\n",
      "\n",
      "    accuracy                           0.76    182185\n",
      "   macro avg       0.78      0.44      0.45    182185\n",
      "weighted avg       0.76      0.76      0.70    182185\n",
      "\n"
     ]
    }
   ],
   "source": [
    "print(\"Classfication Report for (Unigrams, 75)\\n\\n\")\n",
    "target_names = ['1', '2', '3', '4', '5']\n",
    "classification_score = classification_report(X_train_df['Rating'], y_pred, target_names=target_names)\n",
    "print(classification_score)"
   ]
  },
  {
   "cell_type": "markdown",
   "id": "af117d1a",
   "metadata": {
    "papermill": {
     "duration": 0.062201,
     "end_time": "2022-02-28T09:02:43.183495",
     "exception": false,
     "start_time": "2022-02-28T09:02:43.121294",
     "status": "completed"
    },
    "tags": []
   },
   "source": [
    "# 1.2.1 Review.length < 50 with Unigrams:"
   ]
  },
  {
   "cell_type": "code",
   "execution_count": 21,
   "id": "95df2f01",
   "metadata": {
    "execution": {
     "iopub.execute_input": "2022-02-28T09:02:43.313747Z",
     "iopub.status.busy": "2022-02-28T09:02:43.312681Z",
     "iopub.status.idle": "2022-02-28T09:02:43.354373Z",
     "shell.execute_reply": "2022-02-28T09:02:43.354945Z",
     "shell.execute_reply.started": "2022-02-28T07:42:16.703570Z"
    },
    "papermill": {
     "duration": 0.108628,
     "end_time": "2022-02-28T09:02:43.355176",
     "exception": false,
     "start_time": "2022-02-28T09:02:43.246548",
     "status": "completed"
    },
    "tags": []
   },
   "outputs": [],
   "source": [
    "# review.length < 50 i.e \n",
    "index_names = X_train_df[X_train_df['review_length'] > 50].index\n",
    "X_train_df.drop(index_names, inplace = True)"
   ]
  },
  {
   "cell_type": "code",
   "execution_count": 22,
   "id": "ec30ac5d",
   "metadata": {
    "execution": {
     "iopub.execute_input": "2022-02-28T09:02:43.485436Z",
     "iopub.status.busy": "2022-02-28T09:02:43.484445Z",
     "iopub.status.idle": "2022-02-28T09:02:49.266120Z",
     "shell.execute_reply": "2022-02-28T09:02:49.266653Z",
     "shell.execute_reply.started": "2022-02-28T07:42:16.747050Z"
    },
    "papermill": {
     "duration": 5.84868,
     "end_time": "2022-02-28T09:02:49.266886",
     "exception": false,
     "start_time": "2022-02-28T09:02:43.418206",
     "status": "completed"
    },
    "tags": []
   },
   "outputs": [],
   "source": [
    "# applying fit_transform to generate document term matrix\n",
    "\n",
    "vectorizer_uni50 = TfidfVectorizer(ngram_range=(1,1))\n",
    "vectorized_uni50 = vectorizer_uni50.fit_transform(X_train_df['Reviews'])\n",
    "fvector_uni50 = vectorized_uni50.toarray()"
   ]
  },
  {
   "cell_type": "code",
   "execution_count": 23,
   "id": "c1478f5e",
   "metadata": {
    "execution": {
     "iopub.execute_input": "2022-02-28T09:02:49.399954Z",
     "iopub.status.busy": "2022-02-28T09:02:49.398797Z",
     "iopub.status.idle": "2022-02-28T09:02:49.404748Z",
     "shell.execute_reply": "2022-02-28T09:02:49.405472Z",
     "shell.execute_reply.started": "2022-02-28T07:42:20.659248Z"
    },
    "papermill": {
     "duration": 0.075508,
     "end_time": "2022-02-28T09:02:49.405744",
     "exception": false,
     "start_time": "2022-02-28T09:02:49.330236",
     "status": "completed"
    },
    "tags": []
   },
   "outputs": [
    {
     "name": "stdout",
     "output_type": "stream",
     "text": [
      "The length of the feature vector is : 10005\n"
     ]
    }
   ],
   "source": [
    "print(\"The length of the feature vector is :\",fvector_uni50.shape[1])"
   ]
  },
  {
   "cell_type": "code",
   "execution_count": 24,
   "id": "7fc0e7ed",
   "metadata": {
    "execution": {
     "iopub.execute_input": "2022-02-28T09:02:49.539944Z",
     "iopub.status.busy": "2022-02-28T09:02:49.539241Z",
     "iopub.status.idle": "2022-02-28T09:02:55.570695Z",
     "shell.execute_reply": "2022-02-28T09:02:55.571595Z",
     "shell.execute_reply.started": "2022-02-28T07:42:20.666023Z"
    },
    "papermill": {
     "duration": 6.101933,
     "end_time": "2022-02-28T09:02:55.571950",
     "exception": false,
     "start_time": "2022-02-28T09:02:49.470017",
     "status": "completed"
    },
    "tags": []
   },
   "outputs": [
    {
     "data": {
      "text/plain": [
       "MultinomialNB()"
      ]
     },
     "execution_count": 24,
     "metadata": {},
     "output_type": "execute_result"
    }
   ],
   "source": [
    "model_uni50 = MultinomialNB()\n",
    "model_uni50.fit(fvector_uni50,X_train_df['Rating'])"
   ]
  },
  {
   "cell_type": "code",
   "execution_count": 25,
   "id": "4b086023",
   "metadata": {
    "execution": {
     "iopub.execute_input": "2022-02-28T09:02:55.754472Z",
     "iopub.status.busy": "2022-02-28T09:02:55.753749Z",
     "iopub.status.idle": "2022-02-28T09:02:58.582362Z",
     "shell.execute_reply": "2022-02-28T09:02:58.583413Z",
     "shell.execute_reply.started": "2022-02-28T07:42:28.754177Z"
    },
    "papermill": {
     "duration": 2.8992,
     "end_time": "2022-02-28T09:02:58.583787",
     "exception": false,
     "start_time": "2022-02-28T09:02:55.684587",
     "status": "completed"
    },
    "tags": []
   },
   "outputs": [],
   "source": [
    "y_pred = model_uni50.predict(fvector_uni50) "
   ]
  },
  {
   "cell_type": "code",
   "execution_count": 26,
   "id": "a67c7103",
   "metadata": {
    "execution": {
     "iopub.execute_input": "2022-02-28T09:02:58.765495Z",
     "iopub.status.busy": "2022-02-28T09:02:58.764729Z",
     "iopub.status.idle": "2022-02-28T09:02:58.977744Z",
     "shell.execute_reply": "2022-02-28T09:02:58.977032Z",
     "shell.execute_reply.started": "2022-02-28T07:42:31.517835Z"
    },
    "papermill": {
     "duration": 0.281615,
     "end_time": "2022-02-28T09:02:58.977908",
     "exception": false,
     "start_time": "2022-02-28T09:02:58.696293",
     "status": "completed"
    },
    "tags": []
   },
   "outputs": [
    {
     "name": "stdout",
     "output_type": "stream",
     "text": [
      "Classfication Report for (Unigrams, 50) \n",
      "\n",
      "\n",
      "<function classification_report at 0x7f141a51dd40>\n"
     ]
    }
   ],
   "source": [
    "print(\"Classfication Report for (Unigrams, 50) \\n\\n\")\n",
    "classification_score = classification_report(X_train_df['Rating'], y_pred, target_names=target_names)\n",
    "print(classification_report)"
   ]
  },
  {
   "cell_type": "markdown",
   "id": "70bf13c4",
   "metadata": {
    "papermill": {
     "duration": 0.062787,
     "end_time": "2022-02-28T09:02:59.106063",
     "exception": false,
     "start_time": "2022-02-28T09:02:59.043276",
     "status": "completed"
    },
    "tags": []
   },
   "source": [
    "# 1.2.2 Review.length < 50 with Bi-grams:"
   ]
  },
  {
   "cell_type": "code",
   "execution_count": 27,
   "id": "c8cfa568",
   "metadata": {
    "execution": {
     "iopub.execute_input": "2022-02-28T09:02:59.255378Z",
     "iopub.status.busy": "2022-02-28T09:02:59.254253Z",
     "iopub.status.idle": "2022-02-28T09:03:03.584650Z",
     "shell.execute_reply": "2022-02-28T09:03:03.584064Z",
     "shell.execute_reply.started": "2022-02-28T07:42:31.769724Z"
    },
    "papermill": {
     "duration": 4.40604,
     "end_time": "2022-02-28T09:03:03.584817",
     "exception": false,
     "start_time": "2022-02-28T09:02:59.178777",
     "status": "completed"
    },
    "tags": []
   },
   "outputs": [],
   "source": [
    "# applying fit_transform to generate document term matrix\n",
    "\n",
    "vectorizer_bi50 = TfidfVectorizer(ngram_range=(2,2))\n",
    "vectorized_bi50 = vectorizer_bi50.fit_transform(X_train_df['Reviews'])\n",
    "fvector_bi50 = vectorized_bi50.toarray()"
   ]
  },
  {
   "cell_type": "code",
   "execution_count": 28,
   "id": "9d4e6249",
   "metadata": {
    "execution": {
     "iopub.execute_input": "2022-02-28T09:03:03.717761Z",
     "iopub.status.busy": "2022-02-28T09:03:03.717008Z",
     "iopub.status.idle": "2022-02-28T09:03:03.723734Z",
     "shell.execute_reply": "2022-02-28T09:03:03.722896Z",
     "shell.execute_reply.started": "2022-02-28T07:42:35.973547Z"
    },
    "papermill": {
     "duration": 0.074359,
     "end_time": "2022-02-28T09:03:03.723953",
     "exception": false,
     "start_time": "2022-02-28T09:03:03.649594",
     "status": "completed"
    },
    "tags": []
   },
   "outputs": [
    {
     "name": "stdout",
     "output_type": "stream",
     "text": [
      "The length of the feature vector is : 82792\n"
     ]
    }
   ],
   "source": [
    "print(\"The length of the feature vector is :\", fvector_bi50.shape[1])"
   ]
  },
  {
   "cell_type": "code",
   "execution_count": 29,
   "id": "71518c82",
   "metadata": {
    "execution": {
     "iopub.execute_input": "2022-02-28T09:03:03.857854Z",
     "iopub.status.busy": "2022-02-28T09:03:03.857198Z",
     "iopub.status.idle": "2022-02-28T09:03:03.950058Z",
     "shell.execute_reply": "2022-02-28T09:03:03.949333Z",
     "shell.execute_reply.started": "2022-02-28T07:42:35.982127Z"
    },
    "papermill": {
     "duration": 0.161536,
     "end_time": "2022-02-28T09:03:03.950339",
     "exception": false,
     "start_time": "2022-02-28T09:03:03.788803",
     "status": "completed"
    },
    "tags": []
   },
   "outputs": [
    {
     "data": {
      "text/plain": [
       "['able updated',\n",
       " 'able upgrad',\n",
       " 'able upgrade',\n",
       " 'able use',\n",
       " 'able used',\n",
       " 'able utilize',\n",
       " 'able web',\n",
       " 'able work',\n",
       " 'able yo',\n",
       " 'ableable update',\n",
       " 'abou year',\n",
       " 'abouat selling',\n",
       " 'abroad but',\n",
       " 'abroad great',\n",
       " 'abroad no',\n",
       " 'abroad postage',\n",
       " 'abroad totally',\n",
       " 'abroad work',\n",
       " 'abroad worked',\n",
       " 'absolute bargain',\n",
       " 'absolute best',\n",
       " 'absolute disappointment',\n",
       " 'absolute garbage',\n",
       " 'absolute love',\n",
       " 'absolute pleasure',\n",
       " 'absolute worst',\n",
       " 'absolutely amazing',\n",
       " 'absolutely awesome',\n",
       " 'absolutely awful',\n",
       " 'absolutely beautiful']"
      ]
     },
     "execution_count": 29,
     "metadata": {},
     "output_type": "execute_result"
    }
   ],
   "source": [
    "vectorizer_bi50.get_feature_names()[100:130]"
   ]
  },
  {
   "cell_type": "code",
   "execution_count": 30,
   "id": "d2cdf369",
   "metadata": {
    "execution": {
     "iopub.execute_input": "2022-02-28T09:03:04.085748Z",
     "iopub.status.busy": "2022-02-28T09:03:04.085076Z",
     "iopub.status.idle": "2022-02-28T09:03:55.448225Z",
     "shell.execute_reply": "2022-02-28T09:03:55.448750Z",
     "shell.execute_reply.started": "2022-02-28T07:42:36.074932Z"
    },
    "papermill": {
     "duration": 51.433036,
     "end_time": "2022-02-28T09:03:55.448952",
     "exception": false,
     "start_time": "2022-02-28T09:03:04.015916",
     "status": "completed"
    },
    "tags": []
   },
   "outputs": [
    {
     "data": {
      "text/plain": [
       "MultinomialNB()"
      ]
     },
     "execution_count": 30,
     "metadata": {},
     "output_type": "execute_result"
    }
   ],
   "source": [
    "model_bi50 = MultinomialNB()\n",
    "model_bi50.fit(fvector_bi50,X_train_df['Rating'])"
   ]
  },
  {
   "cell_type": "code",
   "execution_count": 31,
   "id": "5b1575c4",
   "metadata": {
    "execution": {
     "iopub.execute_input": "2022-02-28T09:03:55.584458Z",
     "iopub.status.busy": "2022-02-28T09:03:55.583727Z",
     "iopub.status.idle": "2022-02-28T09:04:17.886573Z",
     "shell.execute_reply": "2022-02-28T09:04:17.885411Z",
     "shell.execute_reply.started": "2022-02-28T07:43:26.396624Z"
    },
    "papermill": {
     "duration": 22.373167,
     "end_time": "2022-02-28T09:04:17.886855",
     "exception": false,
     "start_time": "2022-02-28T09:03:55.513688",
     "status": "completed"
    },
    "tags": []
   },
   "outputs": [],
   "source": [
    "y = model_bi50.predict(fvector_bi50) "
   ]
  },
  {
   "cell_type": "code",
   "execution_count": 32,
   "id": "4a123625",
   "metadata": {
    "execution": {
     "iopub.execute_input": "2022-02-28T09:04:18.051316Z",
     "iopub.status.busy": "2022-02-28T09:04:18.050168Z",
     "iopub.status.idle": "2022-02-28T09:04:18.272995Z",
     "shell.execute_reply": "2022-02-28T09:04:18.274389Z",
     "shell.execute_reply.started": "2022-02-28T07:43:47.043798Z"
    },
    "papermill": {
     "duration": 0.301162,
     "end_time": "2022-02-28T09:04:18.274750",
     "exception": false,
     "start_time": "2022-02-28T09:04:17.973588",
     "status": "completed"
    },
    "tags": []
   },
   "outputs": [
    {
     "name": "stdout",
     "output_type": "stream",
     "text": [
      "Classfication Report for (Bigrams, 50) \n",
      "\n",
      "\n",
      "              precision    recall  f1-score   support\n",
      "\n",
      "           1       0.70      0.84      0.76     18521\n",
      "           2       0.94      0.10      0.17      5340\n",
      "           3       0.81      0.17      0.28      8110\n",
      "           4       0.64      0.16      0.26     19220\n",
      "           5       0.80      0.99      0.88     96844\n",
      "\n",
      "    accuracy                           0.78    148035\n",
      "   macro avg       0.78      0.45      0.47    148035\n",
      "weighted avg       0.77      0.78      0.73    148035\n",
      "\n"
     ]
    }
   ],
   "source": [
    "print(\"Classfication Report for (Bigrams, 50) \\n\\n\")\n",
    "classification_score = classification_report(X_train_df['Rating'], y_pred, target_names=target_names)\n",
    "print(classification_score)"
   ]
  },
  {
   "cell_type": "markdown",
   "id": "e4db4584",
   "metadata": {
    "papermill": {
     "duration": 0.075428,
     "end_time": "2022-02-28T09:04:18.430615",
     "exception": false,
     "start_time": "2022-02-28T09:04:18.355187",
     "status": "completed"
    },
    "tags": []
   },
   "source": [
    "# 1.3.1 Review.length < 25 with Unigrams:"
   ]
  },
  {
   "cell_type": "code",
   "execution_count": 33,
   "id": "0f843c38",
   "metadata": {
    "execution": {
     "iopub.execute_input": "2022-02-28T09:04:18.583677Z",
     "iopub.status.busy": "2022-02-28T09:04:18.582733Z",
     "iopub.status.idle": "2022-02-28T09:04:18.625882Z",
     "shell.execute_reply": "2022-02-28T09:04:18.624715Z",
     "shell.execute_reply.started": "2022-02-28T07:44:29.144393Z"
    },
    "papermill": {
     "duration": 0.121829,
     "end_time": "2022-02-28T09:04:18.626365",
     "exception": false,
     "start_time": "2022-02-28T09:04:18.504536",
     "status": "completed"
    },
    "tags": []
   },
   "outputs": [],
   "source": [
    "# review.length < 25 i.e \n",
    "index_names = X_train_df[X_train_df['review_length'] > 25].index\n",
    "X_train_df.drop(index_names, inplace = True)"
   ]
  },
  {
   "cell_type": "code",
   "execution_count": 34,
   "id": "5e3df39d",
   "metadata": {
    "execution": {
     "iopub.execute_input": "2022-02-28T09:04:18.837952Z",
     "iopub.status.busy": "2022-02-28T09:04:18.817248Z",
     "iopub.status.idle": "2022-02-28T09:04:21.321291Z",
     "shell.execute_reply": "2022-02-28T09:04:21.320501Z",
     "shell.execute_reply.started": "2022-02-28T07:44:29.571234Z"
    },
    "papermill": {
     "duration": 2.624193,
     "end_time": "2022-02-28T09:04:21.321453",
     "exception": false,
     "start_time": "2022-02-28T09:04:18.697260",
     "status": "completed"
    },
    "tags": []
   },
   "outputs": [],
   "source": [
    "# applying fit_transform to generate document term matrix\n",
    "\n",
    "vectorizer_uni25 = TfidfVectorizer(ngram_range=(1,1))\n",
    "vectorized_uni25 = vectorizer_uni25.fit_transform(X_train_df['Reviews'])\n",
    "fvector_uni25 = vectorized_uni25.toarray()"
   ]
  },
  {
   "cell_type": "code",
   "execution_count": 35,
   "id": "be210315",
   "metadata": {
    "execution": {
     "iopub.execute_input": "2022-02-28T09:04:21.460228Z",
     "iopub.status.busy": "2022-02-28T09:04:21.457725Z",
     "iopub.status.idle": "2022-02-28T09:04:21.463292Z",
     "shell.execute_reply": "2022-02-28T09:04:21.464072Z",
     "shell.execute_reply.started": "2022-02-28T07:44:31.312806Z"
    },
    "papermill": {
     "duration": 0.076464,
     "end_time": "2022-02-28T09:04:21.464335",
     "exception": false,
     "start_time": "2022-02-28T09:04:21.387871",
     "status": "completed"
    },
    "tags": []
   },
   "outputs": [
    {
     "name": "stdout",
     "output_type": "stream",
     "text": [
      "The length of the feature vector is : 5056\n"
     ]
    }
   ],
   "source": [
    "print(\"The length of the feature vector is :\",fvector_uni25.shape[1])"
   ]
  },
  {
   "cell_type": "code",
   "execution_count": 36,
   "id": "93556a88",
   "metadata": {
    "execution": {
     "iopub.execute_input": "2022-02-28T09:04:21.601731Z",
     "iopub.status.busy": "2022-02-28T09:04:21.601052Z",
     "iopub.status.idle": "2022-02-28T09:04:23.580724Z",
     "shell.execute_reply": "2022-02-28T09:04:23.582251Z",
     "shell.execute_reply.started": "2022-02-28T07:44:31.319753Z"
    },
    "papermill": {
     "duration": 2.050453,
     "end_time": "2022-02-28T09:04:23.582841",
     "exception": false,
     "start_time": "2022-02-28T09:04:21.532388",
     "status": "completed"
    },
    "tags": []
   },
   "outputs": [
    {
     "data": {
      "text/plain": [
       "MultinomialNB()"
      ]
     },
     "execution_count": 36,
     "metadata": {},
     "output_type": "execute_result"
    }
   ],
   "source": [
    "model_uni25 = MultinomialNB()\n",
    "model_uni25.fit(fvector_uni25,X_train_df['Rating'])"
   ]
  },
  {
   "cell_type": "code",
   "execution_count": 37,
   "id": "6eb2992d",
   "metadata": {
    "execution": {
     "iopub.execute_input": "2022-02-28T09:04:23.771485Z",
     "iopub.status.busy": "2022-02-28T09:04:23.770709Z",
     "iopub.status.idle": "2022-02-28T09:04:24.826087Z",
     "shell.execute_reply": "2022-02-28T09:04:24.827131Z",
     "shell.execute_reply.started": "2022-02-28T07:44:33.277550Z"
    },
    "papermill": {
     "duration": 1.128922,
     "end_time": "2022-02-28T09:04:24.827506",
     "exception": false,
     "start_time": "2022-02-28T09:04:23.698584",
     "status": "completed"
    },
    "tags": []
   },
   "outputs": [],
   "source": [
    "y_pred = model_uni25.predict(fvector_uni25) "
   ]
  },
  {
   "cell_type": "code",
   "execution_count": 38,
   "id": "6e26ad03",
   "metadata": {
    "execution": {
     "iopub.execute_input": "2022-02-28T09:04:25.003661Z",
     "iopub.status.busy": "2022-02-28T09:04:25.002427Z",
     "iopub.status.idle": "2022-02-28T09:04:25.138647Z",
     "shell.execute_reply": "2022-02-28T09:04:25.139183Z",
     "shell.execute_reply.started": "2022-02-28T07:44:34.259336Z"
    },
    "papermill": {
     "duration": 0.21059,
     "end_time": "2022-02-28T09:04:25.139396",
     "exception": false,
     "start_time": "2022-02-28T09:04:24.928806",
     "status": "completed"
    },
    "tags": []
   },
   "outputs": [
    {
     "name": "stdout",
     "output_type": "stream",
     "text": [
      "              precision    recall  f1-score   support\n",
      "\n",
      "           1       0.72      0.83      0.77      9211\n",
      "           2       0.86      0.11      0.20      2594\n",
      "           3       0.75      0.19      0.31      4270\n",
      "           4       0.68      0.12      0.20     12275\n",
      "           5       0.82      0.99      0.90     70450\n",
      "\n",
      "    accuracy                           0.81     98800\n",
      "   macro avg       0.77      0.45      0.48     98800\n",
      "weighted avg       0.80      0.81      0.76     98800\n",
      "\n",
      "Classfication Report for (Unigrams, 25) \n",
      "\n",
      "\n"
     ]
    }
   ],
   "source": [
    "classification_score = classification_report(X_train_df['Rating'], y_pred, target_names=target_names)\n",
    "print(classification_score)\n",
    "print(\"Classfication Report for (Unigrams, 25) \\n\\n\")"
   ]
  },
  {
   "cell_type": "markdown",
   "id": "ae1f276f",
   "metadata": {
    "papermill": {
     "duration": 0.066527,
     "end_time": "2022-02-28T09:04:25.272534",
     "exception": false,
     "start_time": "2022-02-28T09:04:25.206007",
     "status": "completed"
    },
    "tags": []
   },
   "source": [
    "# 1.3.2 Review.length < 25 with Bigrams:"
   ]
  },
  {
   "cell_type": "code",
   "execution_count": 39,
   "id": "fa4486c8",
   "metadata": {
    "execution": {
     "iopub.execute_input": "2022-02-28T09:04:25.414294Z",
     "iopub.status.busy": "2022-02-28T09:04:25.413180Z",
     "iopub.status.idle": "2022-02-28T09:04:27.429830Z",
     "shell.execute_reply": "2022-02-28T09:04:27.429009Z",
     "shell.execute_reply.started": "2022-02-28T07:44:36.396422Z"
    },
    "papermill": {
     "duration": 2.090545,
     "end_time": "2022-02-28T09:04:27.430020",
     "exception": false,
     "start_time": "2022-02-28T09:04:25.339475",
     "status": "completed"
    },
    "tags": []
   },
   "outputs": [],
   "source": [
    "# applying fit_transform to generate document term matrix\n",
    "\n",
    "vectorizer_bi25 = TfidfVectorizer(ngram_range=(2,2))\n",
    "vectorized_bi25 = vectorizer_bi25.fit_transform(X_train_df['Reviews'])\n",
    "fvector_bi25 = vectorized_bi25.toarray()"
   ]
  },
  {
   "cell_type": "code",
   "execution_count": 40,
   "id": "c78537c7",
   "metadata": {
    "execution": {
     "iopub.execute_input": "2022-02-28T09:04:27.572696Z",
     "iopub.status.busy": "2022-02-28T09:04:27.571892Z",
     "iopub.status.idle": "2022-02-28T09:04:27.577278Z",
     "shell.execute_reply": "2022-02-28T09:04:27.577757Z",
     "shell.execute_reply.started": "2022-02-28T07:44:37.869138Z"
    },
    "papermill": {
     "duration": 0.081054,
     "end_time": "2022-02-28T09:04:27.577975",
     "exception": false,
     "start_time": "2022-02-28T09:04:27.496921",
     "status": "completed"
    },
    "tags": []
   },
   "outputs": [
    {
     "name": "stdout",
     "output_type": "stream",
     "text": [
      "The length of the feature vector is : 23024\n"
     ]
    }
   ],
   "source": [
    "print(\"The length of the feature vector is :\",fvector_bi25.shape[1])"
   ]
  },
  {
   "cell_type": "code",
   "execution_count": 41,
   "id": "478ead3f",
   "metadata": {
    "execution": {
     "iopub.execute_input": "2022-02-28T09:04:27.719748Z",
     "iopub.status.busy": "2022-02-28T09:04:27.718951Z",
     "iopub.status.idle": "2022-02-28T09:04:37.378112Z",
     "shell.execute_reply": "2022-02-28T09:04:37.379134Z",
     "shell.execute_reply.started": "2022-02-28T07:44:37.875384Z"
    },
    "papermill": {
     "duration": 9.733367,
     "end_time": "2022-02-28T09:04:37.379461",
     "exception": false,
     "start_time": "2022-02-28T09:04:27.646094",
     "status": "completed"
    },
    "tags": []
   },
   "outputs": [
    {
     "data": {
      "text/plain": [
       "MultinomialNB()"
      ]
     },
     "execution_count": 41,
     "metadata": {},
     "output_type": "execute_result"
    }
   ],
   "source": [
    "model_bi25 = MultinomialNB()\n",
    "model_bi25.fit(fvector_bi25,X_train_df['Rating'])"
   ]
  },
  {
   "cell_type": "code",
   "execution_count": 42,
   "id": "86df2fb1",
   "metadata": {
    "execution": {
     "iopub.execute_input": "2022-02-28T09:04:37.571196Z",
     "iopub.status.busy": "2022-02-28T09:04:37.570025Z",
     "iopub.status.idle": "2022-02-28T09:04:42.193835Z",
     "shell.execute_reply": "2022-02-28T09:04:42.194418Z",
     "shell.execute_reply.started": "2022-02-28T07:44:47.161671Z"
    },
    "papermill": {
     "duration": 4.698158,
     "end_time": "2022-02-28T09:04:42.194676",
     "exception": false,
     "start_time": "2022-02-28T09:04:37.496518",
     "status": "completed"
    },
    "tags": []
   },
   "outputs": [],
   "source": [
    "y_pred = model_bi25.predict(fvector_bi25) "
   ]
  },
  {
   "cell_type": "code",
   "execution_count": 43,
   "id": "5381196f",
   "metadata": {
    "execution": {
     "iopub.execute_input": "2022-02-28T09:04:42.345024Z",
     "iopub.status.busy": "2022-02-28T09:04:42.344292Z",
     "iopub.status.idle": "2022-02-28T09:04:42.490694Z",
     "shell.execute_reply": "2022-02-28T09:04:42.491471Z",
     "shell.execute_reply.started": "2022-02-28T07:44:51.084725Z"
    },
    "papermill": {
     "duration": 0.224552,
     "end_time": "2022-02-28T09:04:42.491771",
     "exception": false,
     "start_time": "2022-02-28T09:04:42.267219",
     "status": "completed"
    },
    "tags": []
   },
   "outputs": [
    {
     "name": "stdout",
     "output_type": "stream",
     "text": [
      "              precision    recall  f1-score   support\n",
      "\n",
      "           1       0.84      0.77      0.81      9211\n",
      "           2       1.00      0.22      0.35      2594\n",
      "           3       0.98      0.24      0.39      4270\n",
      "           4       0.86      0.22      0.35     12275\n",
      "           5       0.82      1.00      0.90     70450\n",
      "\n",
      "    accuracy                           0.83     98800\n",
      "   macro avg       0.90      0.49      0.56     98800\n",
      "weighted avg       0.84      0.83      0.79     98800\n",
      "\n",
      "Classfication Report for (Bigrams, 25) \n",
      "\n",
      "\n"
     ]
    }
   ],
   "source": [
    "classification_score = classification_report(X_train_df['Rating'], y_pred, target_names=target_names)\n",
    "print(classification_score)\n",
    "print(\"Classfication Report for (Bigrams, 25) \\n\\n\")"
   ]
  },
  {
   "cell_type": "markdown",
   "id": "bf834f60",
   "metadata": {
    "papermill": {
     "duration": 0.068865,
     "end_time": "2022-02-28T09:04:42.629450",
     "exception": false,
     "start_time": "2022-02-28T09:04:42.560585",
     "status": "completed"
    },
    "tags": []
   },
   "source": [
    "# 1.3.3 Review.length < 25 with Trigrams:"
   ]
  },
  {
   "cell_type": "code",
   "execution_count": 44,
   "id": "0907856b",
   "metadata": {
    "execution": {
     "iopub.execute_input": "2022-02-28T09:04:42.831643Z",
     "iopub.status.busy": "2022-02-28T09:04:42.805714Z",
     "iopub.status.idle": "2022-02-28T09:04:44.179845Z",
     "shell.execute_reply": "2022-02-28T09:04:44.179193Z",
     "shell.execute_reply.started": "2022-02-28T07:44:53.754181Z"
    },
    "papermill": {
     "duration": 1.482775,
     "end_time": "2022-02-28T09:04:44.180035",
     "exception": false,
     "start_time": "2022-02-28T09:04:42.697260",
     "status": "completed"
    },
    "tags": []
   },
   "outputs": [],
   "source": [
    "# applying fit_transform to generate document term matrix\n",
    "\n",
    "vectorizer_tri25 = TfidfVectorizer(ngram_range=(3,3))\n",
    "vectorized_tri25 = vectorizer_tri25.fit_transform(X_train_df['Reviews'])\n",
    "fvector_tri25 = vectorized_tri25.toarray()"
   ]
  },
  {
   "cell_type": "code",
   "execution_count": 45,
   "id": "9218e74a",
   "metadata": {
    "execution": {
     "iopub.execute_input": "2022-02-28T09:04:44.322532Z",
     "iopub.status.busy": "2022-02-28T09:04:44.321742Z",
     "iopub.status.idle": "2022-02-28T09:04:44.324715Z",
     "shell.execute_reply": "2022-02-28T09:04:44.325282Z",
     "shell.execute_reply.started": "2022-02-28T07:44:54.825074Z"
    },
    "papermill": {
     "duration": 0.077093,
     "end_time": "2022-02-28T09:04:44.325494",
     "exception": false,
     "start_time": "2022-02-28T09:04:44.248401",
     "status": "completed"
    },
    "tags": []
   },
   "outputs": [
    {
     "name": "stdout",
     "output_type": "stream",
     "text": [
      "The length of the feature vector is : 24043\n"
     ]
    }
   ],
   "source": [
    "print(\"The length of the feature vector is :\",fvector_tri25.shape[1])"
   ]
  },
  {
   "cell_type": "code",
   "execution_count": 46,
   "id": "63d5d9c3",
   "metadata": {
    "execution": {
     "iopub.execute_input": "2022-02-28T09:04:44.467580Z",
     "iopub.status.busy": "2022-02-28T09:04:44.466812Z",
     "iopub.status.idle": "2022-02-28T09:04:44.495058Z",
     "shell.execute_reply": "2022-02-28T09:04:44.495617Z",
     "shell.execute_reply.started": "2022-02-28T07:44:56.638884Z"
    },
    "papermill": {
     "duration": 0.102,
     "end_time": "2022-02-28T09:04:44.495836",
     "exception": false,
     "start_time": "2022-02-28T09:04:44.393836",
     "status": "completed"
    },
    "tags": []
   },
   "outputs": [
    {
     "data": {
      "text/plain": [
       "['advertised well done',\n",
       " 'advertised work amazing',\n",
       " 'advertised work fine',\n",
       " 'advertised work great',\n",
       " 'advertised work perfectly',\n",
       " 'advise not buy',\n",
       " 'af mode not',\n",
       " 'affordable awesome blu',\n",
       " 'affordable low budget',\n",
       " 'affordable price very',\n",
       " 'affordable yet very',\n",
       " 'africa work great',\n",
       " 'afriend say wanted',\n",
       " 'afte week flashed',\n",
       " 'afternoon good job',\n",
       " 'afternoon good product',\n",
       " 'ago far good',\n",
       " 'ago no problem',\n",
       " 'ago not problem',\n",
       " 'agora comprar plus',\n",
       " 'agradecida por la',\n",
       " 'ahora super bien',\n",
       " 'al ajtyyjyj jy',\n",
       " 'al dia responsables',\n",
       " 'al ready le',\n",
       " 'al very good',\n",
       " 'al ximo encanta',\n",
       " 'ale version not',\n",
       " 'alittle slow but',\n",
       " 'allit one use']"
      ]
     },
     "execution_count": 46,
     "metadata": {},
     "output_type": "execute_result"
    }
   ],
   "source": [
    "vectorizer_tri25.get_feature_names()[100:130]"
   ]
  },
  {
   "cell_type": "code",
   "execution_count": 47,
   "id": "7e55cd7e",
   "metadata": {
    "execution": {
     "iopub.execute_input": "2022-02-28T09:04:44.644056Z",
     "iopub.status.busy": "2022-02-28T09:04:44.641367Z",
     "iopub.status.idle": "2022-02-28T09:04:54.652631Z",
     "shell.execute_reply": "2022-02-28T09:04:54.653695Z",
     "shell.execute_reply.started": "2022-02-28T07:44:58.824480Z"
    },
    "papermill": {
     "duration": 10.08567,
     "end_time": "2022-02-28T09:04:54.654042",
     "exception": false,
     "start_time": "2022-02-28T09:04:44.568372",
     "status": "completed"
    },
    "tags": []
   },
   "outputs": [
    {
     "data": {
      "text/plain": [
       "MultinomialNB()"
      ]
     },
     "execution_count": 47,
     "metadata": {},
     "output_type": "execute_result"
    }
   ],
   "source": [
    "model_tri25 = MultinomialNB()\n",
    "model_tri25.fit(fvector_tri25,X_train_df['Rating'])"
   ]
  },
  {
   "cell_type": "code",
   "execution_count": 48,
   "id": "3b645bb1",
   "metadata": {
    "execution": {
     "iopub.execute_input": "2022-02-28T09:04:54.846558Z",
     "iopub.status.busy": "2022-02-28T09:04:54.845424Z",
     "iopub.status.idle": "2022-02-28T09:04:59.137590Z",
     "shell.execute_reply": "2022-02-28T09:04:59.138716Z",
     "shell.execute_reply.started": "2022-02-28T07:45:08.592994Z"
    },
    "papermill": {
     "duration": 4.367931,
     "end_time": "2022-02-28T09:04:59.139129",
     "exception": false,
     "start_time": "2022-02-28T09:04:54.771198",
     "status": "completed"
    },
    "tags": []
   },
   "outputs": [],
   "source": [
    "y_pred = model_tri25.predict(fvector_tri25) "
   ]
  },
  {
   "cell_type": "code",
   "execution_count": 49,
   "id": "d7ce1ae6",
   "metadata": {
    "execution": {
     "iopub.execute_input": "2022-02-28T09:04:59.332324Z",
     "iopub.status.busy": "2022-02-28T09:04:59.331481Z",
     "iopub.status.idle": "2022-02-28T09:04:59.465496Z",
     "shell.execute_reply": "2022-02-28T09:04:59.466059Z",
     "shell.execute_reply.started": "2022-02-28T07:45:38.599729Z"
    },
    "papermill": {
     "duration": 0.208798,
     "end_time": "2022-02-28T09:04:59.466274",
     "exception": false,
     "start_time": "2022-02-28T09:04:59.257476",
     "status": "completed"
    },
    "tags": []
   },
   "outputs": [
    {
     "name": "stdout",
     "output_type": "stream",
     "text": [
      "              precision    recall  f1-score   support\n",
      "\n",
      "           1       0.96      0.38      0.55      9211\n",
      "           2       1.00      0.11      0.19      2594\n",
      "           3       1.00      0.12      0.22      4270\n",
      "           4       0.97      0.20      0.33     12275\n",
      "           5       0.77      1.00      0.87     70450\n",
      "\n",
      "    accuracy                           0.78     98800\n",
      "   macro avg       0.94      0.36      0.43     98800\n",
      "weighted avg       0.83      0.78      0.73     98800\n",
      "\n",
      "Classfication Report for (Trigrams, 25) \n",
      "\n",
      "\n"
     ]
    }
   ],
   "source": [
    "classification_score = classification_report(X_train_df['Rating'], y_pred, target_names=target_names)\n",
    "print(classification_score)\n",
    "print(\"Classfication Report for (Trigrams, 25) \\n\\n\")"
   ]
  },
  {
   "cell_type": "markdown",
   "id": "b0a31592",
   "metadata": {
    "papermill": {
     "duration": 0.068982,
     "end_time": "2022-02-28T09:04:59.684242",
     "exception": false,
     "start_time": "2022-02-28T09:04:59.615260",
     "status": "completed"
    },
    "tags": []
   },
   "source": [
    "# **Classification Scores(Training Data)**\n",
    "\n",
    "        \n",
    "   "
   ]
  },
  {
   "cell_type": "markdown",
   "id": "f15a13a5",
   "metadata": {
    "papermill": {
     "duration": 0.069356,
     "end_time": "2022-02-28T09:04:59.823389",
     "exception": false,
     "start_time": "2022-02-28T09:04:59.754033",
     "status": "completed"
    },
    "tags": []
   },
   "source": [
    "   <table>\n",
    "  <tr>\n",
    "    <th>(Ngram, Review Length(less than))</th>\n",
    "    <th>Accuracy</th>\n",
    "    <th>Precision</th>\n",
    "    <th>Recall</th>\n",
    "    <th>F1-Score</th>\n",
    "  </tr>\n",
    "  <tr>\n",
    "    <td>Unigram, 200(from version 2)</td>    \n",
    "    <td>0.73</td>\n",
    "    <td>0.74</td>\n",
    "    <td>0.73</td>\n",
    "    <td>0.65</td>\n",
    "  </tr>\n",
    "    <tr>\n",
    "    <td>Unigram, 75</td>    \n",
    "    <td>0.76</td>\n",
    "    <td>0.76</td>\n",
    "    <td>0.76</td>\n",
    "    <td>0.70</td>\n",
    "  </tr>\n",
    "  <tr>\n",
    "    <td>Unigram, 50</td>   \n",
    "      <td>0.78</td>\n",
    "    <td>0.77</td>\n",
    "    <td>0.78</td>\n",
    "      <td>0.73</td>\n",
    "  </tr>\n",
    "  <tr>\n",
    "    <td>Bigram, 50</td> \n",
    "   <td>0.83</td>\n",
    "    <td>0.85</td>\n",
    "    <td>0.83</td>\n",
    "    <td>0.80</td>\n",
    "  </tr>\n",
    "  <tr>\n",
    "    <td>Unigram, 25</td>\n",
    "    <td>0.81</td>\n",
    "    <td>0.80</td>\n",
    "    <td>0.81</td>\n",
    "    <td>0.76</td>\n",
    "  </tr>\n",
    "  <tr>\n",
    "    <td>Bigram, 25</td>\n",
    "    <td>0.83</td>\n",
    "    <td>0.84</td>\n",
    "    <td>0.83</td>\n",
    "    <td>0.79</td>\n",
    "  </tr>\n",
    "  <tr>\n",
    "    <td>Trigram, 25</td> \n",
    "    <td>0.78</td>\n",
    "    <td>0.83</td>\n",
    "    <td>0.78</td>\n",
    "    <td>0.73</td>\n",
    "  </tr>\n",
    "</table>"
   ]
  },
  {
   "cell_type": "markdown",
   "id": "f1012fa9",
   "metadata": {
    "papermill": {
     "duration": 0.07091,
     "end_time": "2022-02-28T09:04:59.964929",
     "exception": false,
     "start_time": "2022-02-28T09:04:59.894019",
     "status": "completed"
    },
    "tags": []
   },
   "source": [
    "> "
   ]
  },
  {
   "cell_type": "markdown",
   "id": "fa6ac8d1",
   "metadata": {
    "papermill": {
     "duration": 0.069161,
     "end_time": "2022-02-28T09:05:00.104343",
     "exception": false,
     "start_time": "2022-02-28T09:05:00.035182",
     "status": "completed"
    },
    "tags": []
   },
   "source": [
    "**Conclusion**: \n",
    "* We have to implement spelling correction, highly redundant features are generated.\n",
    "\n",
    "* Based on the above classification report\n",
    "    * For Review.length = 25, precision and recall are highest. \n",
    "    * For Review.length = 50, Bi-grams have the highest precision and recall."
   ]
  },
  {
   "cell_type": "code",
   "execution_count": 50,
   "id": "4bc96a8d",
   "metadata": {
    "execution": {
     "iopub.execute_input": "2022-02-28T09:05:00.248340Z",
     "iopub.status.busy": "2022-02-28T09:05:00.247563Z",
     "iopub.status.idle": "2022-02-28T09:05:00.253987Z",
     "shell.execute_reply": "2022-02-28T09:05:00.254582Z",
     "shell.execute_reply.started": "2022-02-28T07:45:58.298943Z"
    },
    "papermill": {
     "duration": 0.081395,
     "end_time": "2022-02-28T09:05:00.254797",
     "exception": false,
     "start_time": "2022-02-28T09:05:00.173402",
     "status": "completed"
    },
    "tags": []
   },
   "outputs": [],
   "source": [
    "# function to get the star rating\n",
    "# input : vectorizer, model and review_text\n",
    "# output: predicted star rating\n",
    "\n",
    "def getStarRating(vectorizer, model, review, model_name = \" \"):\n",
    "    #review = input(\"Enter your review to get the star rating: \\n\")\n",
    "    preprocessed_review = preprocess_review(review)\n",
    "    features = vectorizer.transform([preprocessed_review])\n",
    "    feature_vector = features.toarray()\n",
    "    predicted_class = model.predict(feature_vector)\n",
    "    print(\"\\nPredicted Star Rating (\" + model_name + \"), review='\" + review + \"' is:\", predicted_class)\n",
    "    return predicted_class"
   ]
  },
  {
   "cell_type": "markdown",
   "id": "c34c152a",
   "metadata": {
    "papermill": {
     "duration": 0.069252,
     "end_time": "2022-02-28T09:05:00.396202",
     "exception": false,
     "start_time": "2022-02-28T09:05:00.326950",
     "status": "completed"
    },
    "tags": []
   },
   "source": [
    "# **Let's do a mannual check on our models of (Unigram,50), (Bigram,50) & (Trigram, 25)**"
   ]
  },
  {
   "cell_type": "code",
   "execution_count": 51,
   "id": "c80a092c",
   "metadata": {
    "execution": {
     "iopub.execute_input": "2022-02-28T09:05:00.540591Z",
     "iopub.status.busy": "2022-02-28T09:05:00.539857Z",
     "iopub.status.idle": "2022-02-28T09:05:02.886109Z",
     "shell.execute_reply": "2022-02-28T09:05:02.885339Z",
     "shell.execute_reply.started": "2022-02-28T07:46:01.094756Z"
    },
    "papermill": {
     "duration": 2.419918,
     "end_time": "2022-02-28T09:05:02.886292",
     "exception": false,
     "start_time": "2022-02-28T09:05:00.466374",
     "status": "completed"
    },
    "tags": []
   },
   "outputs": [
    {
     "name": "stdout",
     "output_type": "stream",
     "text": [
      "\n",
      "Predicted Star Rating (unigram,50), review='display is not great, but good at this price point' is: [5]\n",
      "\n",
      "Predicted Star Rating (bigram,50), review='display is not great, but good at this price point' is: [4]\n",
      "\n",
      "Predicted Star Rating (trigram, 25), review='display is not great, but good at this price point' is: [5]\n"
     ]
    }
   ],
   "source": [
    "test_review = \"display is not great, but good at this price point\"\n",
    "\n",
    "_ = getStarRating(vectorizer_uni50, model_uni50, test_review,\"unigram,50\")\n",
    "_ = getStarRating(vectorizer_bi50, model_bi50, test_review, \"bigram,50\")\n",
    "_ = getStarRating(vectorizer_tri25, model_tri25 ,test_review, \"trigram, 25\")"
   ]
  },
  {
   "cell_type": "code",
   "execution_count": 52,
   "id": "ba7086c6",
   "metadata": {
    "execution": {
     "iopub.execute_input": "2022-02-28T09:05:03.044601Z",
     "iopub.status.busy": "2022-02-28T09:05:03.043314Z",
     "iopub.status.idle": "2022-02-28T09:05:03.054177Z",
     "shell.execute_reply": "2022-02-28T09:05:03.054996Z",
     "shell.execute_reply.started": "2022-02-28T07:46:03.240591Z"
    },
    "papermill": {
     "duration": 0.094724,
     "end_time": "2022-02-28T09:05:03.055258",
     "exception": false,
     "start_time": "2022-02-28T09:05:02.960534",
     "status": "completed"
    },
    "tags": []
   },
   "outputs": [
    {
     "name": "stdout",
     "output_type": "stream",
     "text": [
      "\n",
      "Predicted Star Rating (unigram,50), review='Amazing product, loved it' is: [5]\n",
      "\n",
      "Predicted Star Rating (bigram,50), review='Amazing product, loved it' is: [5]\n",
      "\n",
      "Predicted Star Rating (trigram, 25), review='Amazing product, loved it' is: [5]\n"
     ]
    }
   ],
   "source": [
    "test_review = \"Amazing product, loved it\"\n",
    "\n",
    "_ = getStarRating(vectorizer_uni50, model_uni50, test_review,\"unigram,50\")\n",
    "_ = getStarRating(vectorizer_bi50, model_bi50, test_review, \"bigram,50\")\n",
    "_ = getStarRating(vectorizer_tri25, model_tri25 ,test_review, \"trigram, 25\")"
   ]
  },
  {
   "cell_type": "code",
   "execution_count": 53,
   "id": "6d74d5a0",
   "metadata": {
    "execution": {
     "iopub.execute_input": "2022-02-28T09:05:03.205254Z",
     "iopub.status.busy": "2022-02-28T09:05:03.204067Z",
     "iopub.status.idle": "2022-02-28T09:05:03.218795Z",
     "shell.execute_reply": "2022-02-28T09:05:03.219498Z",
     "shell.execute_reply.started": "2022-02-28T07:46:03.844599Z"
    },
    "papermill": {
     "duration": 0.090855,
     "end_time": "2022-02-28T09:05:03.219709",
     "exception": false,
     "start_time": "2022-02-28T09:05:03.128854",
     "status": "completed"
    },
    "tags": []
   },
   "outputs": [
    {
     "name": "stdout",
     "output_type": "stream",
     "text": [
      "\n",
      "Predicted Star Rating (unigram,50), review='worst performance except the sound quality' is: [1]\n",
      "\n",
      "Predicted Star Rating (bigram,50), review='worst performance except the sound quality' is: [5]\n",
      "\n",
      "Predicted Star Rating (trigram, 25), review='worst performance except the sound quality' is: [5]\n"
     ]
    }
   ],
   "source": [
    "test_review = \"worst performance except the sound quality\"\n",
    "\n",
    "_ = getStarRating(vectorizer_uni50, model_uni50, test_review,\"unigram,50\")\n",
    "_ = getStarRating(vectorizer_bi50, model_bi50, test_review, \"bigram,50\")\n",
    "_ = getStarRating(vectorizer_tri25, model_tri25 ,test_review, \"trigram, 25\")"
   ]
  },
  {
   "cell_type": "code",
   "execution_count": 54,
   "id": "1e4b6308",
   "metadata": {
    "execution": {
     "iopub.execute_input": "2022-02-28T09:05:03.375651Z",
     "iopub.status.busy": "2022-02-28T09:05:03.374693Z",
     "iopub.status.idle": "2022-02-28T09:05:03.391945Z",
     "shell.execute_reply": "2022-02-28T09:05:03.392748Z",
     "shell.execute_reply.started": "2022-02-28T07:46:05.449763Z"
    },
    "papermill": {
     "duration": 0.100465,
     "end_time": "2022-02-28T09:05:03.392995",
     "exception": false,
     "start_time": "2022-02-28T09:05:03.292530",
     "status": "completed"
    },
    "tags": []
   },
   "outputs": [
    {
     "name": "stdout",
     "output_type": "stream",
     "text": [
      "\n",
      "Predicted Star Rating (unigram,50), review='overall its great, but its gets heat up' is: [4]\n",
      "\n",
      "Predicted Star Rating (bigram,50), review='overall its great, but its gets heat up' is: [5]\n",
      "\n",
      "Predicted Star Rating (trigram, 25), review='overall its great, but its gets heat up' is: [5]\n"
     ]
    }
   ],
   "source": [
    "test_review = \"overall its great, but its gets heat up\"\n",
    "\n",
    "_ = getStarRating(vectorizer_uni50, model_uni50, test_review,\"unigram,50\")\n",
    "_ = getStarRating(vectorizer_bi50, model_bi50, test_review, \"bigram,50\")\n",
    "_ = getStarRating(vectorizer_tri25, model_tri25 ,test_review, \"trigram, 25\")"
   ]
  },
  {
   "cell_type": "markdown",
   "id": "dfe7af30",
   "metadata": {
    "papermill": {
     "duration": 0.072443,
     "end_time": "2022-02-28T09:05:03.539217",
     "exception": false,
     "start_time": "2022-02-28T09:05:03.466774",
     "status": "completed"
    },
    "tags": []
   },
   "source": [
    "# **Let's save the vectorizers and models since the dataset is large and that too for different versions of models. It is taking up a lot of space resulting in overflow if I am doing testing in this notebook also. So, I will use the saved models and vectorizers and do the testing in other notebook.**"
   ]
  },
  {
   "cell_type": "markdown",
   "id": "b262ba1f",
   "metadata": {
    "papermill": {
     "duration": 0.070282,
     "end_time": "2022-02-28T09:05:03.683940",
     "exception": false,
     "start_time": "2022-02-28T09:05:03.613658",
     "status": "completed"
    },
    "tags": []
   },
   "source": [
    "> **Importing the required libraries**"
   ]
  },
  {
   "cell_type": "code",
   "execution_count": 55,
   "id": "022143ee",
   "metadata": {
    "execution": {
     "iopub.execute_input": "2022-02-28T09:05:03.830807Z",
     "iopub.status.busy": "2022-02-28T09:05:03.830072Z",
     "iopub.status.idle": "2022-02-28T09:05:03.832198Z",
     "shell.execute_reply": "2022-02-28T09:05:03.832886Z",
     "shell.execute_reply.started": "2022-02-28T08:02:03.628641Z"
    },
    "papermill": {
     "duration": 0.078557,
     "end_time": "2022-02-28T09:05:03.833131",
     "exception": false,
     "start_time": "2022-02-28T09:05:03.754574",
     "status": "completed"
    },
    "tags": []
   },
   "outputs": [],
   "source": [
    "import joblib"
   ]
  },
  {
   "cell_type": "markdown",
   "id": "cea2d917",
   "metadata": {
    "papermill": {
     "duration": 0.070479,
     "end_time": "2022-02-28T09:05:03.981859",
     "exception": false,
     "start_time": "2022-02-28T09:05:03.911380",
     "status": "completed"
    },
    "tags": []
   },
   "source": [
    "> **make a directory models to save vectorizers and models**"
   ]
  },
  {
   "cell_type": "code",
   "execution_count": 56,
   "id": "16068bd2",
   "metadata": {
    "execution": {
     "iopub.execute_input": "2022-02-28T09:05:04.128084Z",
     "iopub.status.busy": "2022-02-28T09:05:04.127309Z",
     "iopub.status.idle": "2022-02-28T09:05:04.131457Z",
     "shell.execute_reply": "2022-02-28T09:05:04.131997Z",
     "shell.execute_reply.started": "2022-02-28T08:39:34.818517Z"
    },
    "papermill": {
     "duration": 0.078892,
     "end_time": "2022-02-28T09:05:04.132197",
     "exception": false,
     "start_time": "2022-02-28T09:05:04.053305",
     "status": "completed"
    },
    "tags": []
   },
   "outputs": [],
   "source": [
    "os.mkdir('/kaggle/working/models/')"
   ]
  },
  {
   "cell_type": "markdown",
   "id": "58e2e62e",
   "metadata": {
    "papermill": {
     "duration": 0.071416,
     "end_time": "2022-02-28T09:05:04.275343",
     "exception": false,
     "start_time": "2022-02-28T09:05:04.203927",
     "status": "completed"
    },
    "tags": []
   },
   "source": [
    "> **saving all the vectorizers and models**"
   ]
  },
  {
   "cell_type": "code",
   "execution_count": 57,
   "id": "6b6457dc",
   "metadata": {
    "execution": {
     "iopub.execute_input": "2022-02-28T09:05:04.430010Z",
     "iopub.status.busy": "2022-02-28T09:05:04.429182Z",
     "iopub.status.idle": "2022-02-28T09:05:06.126156Z",
     "shell.execute_reply": "2022-02-28T09:05:06.125179Z",
     "shell.execute_reply.started": "2022-02-28T08:47:38.605675Z"
    },
    "papermill": {
     "duration": 1.77623,
     "end_time": "2022-02-28T09:05:06.126353",
     "exception": false,
     "start_time": "2022-02-28T09:05:04.350123",
     "status": "completed"
    },
    "tags": []
   },
   "outputs": [
    {
     "data": {
      "text/plain": [
       "['/kaggle/working/models/vectorizer_tri25.sav']"
      ]
     },
     "execution_count": 57,
     "metadata": {},
     "output_type": "execute_result"
    }
   ],
   "source": [
    "_path =  \"/kaggle/working/models/\"\n",
    "_path = \"/kaggle/working/models/\"\n",
    "\n",
    "joblib.dump(model_uni75, _path+\"model_uni75.sav\")\n",
    "joblib.dump(vectorizer_uni75, _path+\"vectorizer_uni75.sav\")\n",
    "\n",
    "joblib.dump(model_uni50, _path+\"model_uni50.sav\")\n",
    "joblib.dump(vectorizer_uni50, _path+\"vectorizer_uni50.sav\")\n",
    "\n",
    "joblib.dump(model_uni25, _path+\"model_uni25.sav\")\n",
    "joblib.dump(vectorizer_uni25, _path+\"vectorizer_uni25.sav\")\n",
    "\n",
    "joblib.dump(model_bi50, _path+\"model_bi50.sav\")\n",
    "joblib.dump(vectorizer_bi50, _path+\"vectorizer_bi50.sav\")\n",
    "\n",
    "joblib.dump(model_bi25, _path+\"model_bi25.sav\")\n",
    "joblib.dump(vectorizer_bi25, _path+\"vectorizer_bi25.sav\")\n",
    "\n",
    "joblib.dump(model_tri25, _path+\"model_tri25.sav\")\n",
    "joblib.dump(vectorizer_tri25, _path+\"vectorizer_tri25.sav\")"
   ]
  },
  {
   "cell_type": "markdown",
   "id": "f816a167",
   "metadata": {
    "papermill": {
     "duration": 0.069958,
     "end_time": "2022-02-28T09:05:06.267654",
     "exception": false,
     "start_time": "2022-02-28T09:05:06.197696",
     "status": "completed"
    },
    "tags": []
   },
   "source": [
    "> **to remove files and directories**"
   ]
  },
  {
   "cell_type": "markdown",
   "id": "1a60aa83",
   "metadata": {
    "papermill": {
     "duration": 0.072761,
     "end_time": "2022-02-28T09:05:06.411791",
     "exception": false,
     "start_time": "2022-02-28T09:05:06.339030",
     "status": "completed"
    },
    "tags": []
   },
   "source": [
    "<pre>\n",
    "# remove directories\n",
    "import shutil\n",
    "shutil.rmtree(\"/kaggle/working/models\")\n",
    "\n",
    "# remove files\n",
    "import os\n",
    "os.remove(\"path\")\n",
    "</pre>"
   ]
  },
  {
   "cell_type": "markdown",
   "id": "bc4b329d",
   "metadata": {
    "papermill": {
     "duration": 0.072601,
     "end_time": "2022-02-28T09:05:06.556431",
     "exception": false,
     "start_time": "2022-02-28T09:05:06.483830",
     "status": "completed"
    },
    "tags": []
   },
   "source": [
    "# **We have saved the vectorizers and models to test them in another notebook**"
   ]
  }
 ],
 "metadata": {
  "kernelspec": {
   "display_name": "Python 3",
   "language": "python",
   "name": "python3"
  },
  "language_info": {
   "codemirror_mode": {
    "name": "ipython",
    "version": 3
   },
   "file_extension": ".py",
   "mimetype": "text/x-python",
   "name": "python",
   "nbconvert_exporter": "python",
   "pygments_lexer": "ipython3",
   "version": "3.7.10"
  },
  "papermill": {
   "default_parameters": {},
   "duration": 187.071859,
   "end_time": "2022-02-28T09:05:09.452179",
   "environment_variables": {},
   "exception": null,
   "input_path": "__notebook__.ipynb",
   "output_path": "__notebook__.ipynb",
   "parameters": {},
   "start_time": "2022-02-28T09:02:02.380320",
   "version": "2.3.3"
  }
 },
 "nbformat": 4,
 "nbformat_minor": 5
}
